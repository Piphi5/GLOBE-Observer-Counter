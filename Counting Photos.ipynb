{
 "cells": [
  {
   "cell_type": "code",
   "execution_count": 5,
   "metadata": {},
   "outputs": [],
   "source": [
    "protocols = [\"mosquito_habitat_mapper\", \"land_covers\", \"tree_heights\", \"sky_conditions\"]"
   ]
  },
  {
   "cell_type": "code",
   "execution_count": 13,
   "metadata": {},
   "outputs": [],
   "source": [
    "from datetime import date, datetime, timedelta\n",
    "start_date = date(2015, 10, 1)\n",
    "end_date = date(2020,9,30)\n",
    "\n"
   ]
  },
  {
   "cell_type": "code",
   "execution_count": 7,
   "metadata": {},
   "outputs": [],
   "source": [
    "import requests\n",
    "import pandas as pd\n",
    "def count_protocol(protocol, start_date, end_date):\n",
    "    url = f\"https://api.globe.gov/search/v1/measurement/protocol/measureddate/?protocols={protocol}&startdate={start_date}&enddate={end_date}&geojson=FALSE&sample=FALSE\"\n",
    "    response = requests.get(url)\n",
    "    # Converts data into a useable dataframe\n",
    "    data = response.json()[\"results\"]\n",
    "\n",
    "    df = pd.DataFrame(data)\n",
    "    # unpacking and joining the data entry\n",
    "    data_df = pd.DataFrame(df[\"data\"].to_dict())\n",
    "    data_df = data_df.transpose()\n",
    "    final_df = df.join(data_df)\n",
    "    final_df.drop([\"data\"], axis=1, inplace = True)\n",
    "    \n",
    "    data_source = protocol.replace(\"_\", \"\") + \"DataSource\"\n",
    "    final_df = final_df[final_df[data_source] == \"GLOBE Observer App\"]\n",
    "    \n",
    "    photo_columns = final_df.columns[final_df.columns.str.contains(\"Url\")].tolist()\n",
    "    count = 0\n",
    "    for column in photo_columns:\n",
    "        source = final_df[column].dropna().tolist()\n",
    "        for entry in source:\n",
    "            count += len(entry.split(\";\"))\n",
    "    print(f\"Protocol: {protocol} gathered {count} photos\")\n",
    "    return count\n",
    "    "
   ]
  },
  {
   "cell_type": "code",
   "execution_count": 30,
   "metadata": {},
   "outputs": [
    {
     "name": "stdout",
     "output_type": "stream",
     "text": [
      "Protocol: mosquito_habitat_mapper gathered 48627 photos\n",
      "Protocol: land_covers gathered 82772 photos\n",
      "Protocol: tree_heights gathered 18707 photos\n",
      "Protocol: sky_conditions gathered 0 photos\n",
      "Protocol: sky_conditions gathered 4 photos\n",
      "Protocol: sky_conditions gathered 1264 photos\n",
      "Protocol: sky_conditions gathered 27701 photos\n",
      "Protocol: sky_conditions gathered 32405 photos\n",
      "Protocol: sky_conditions gathered 23094 photos\n",
      "Protocol: sky_conditions gathered 25466 photos\n",
      "Protocol: sky_conditions gathered 124080 photos\n",
      "Protocol: sky_conditions gathered 33187 photos\n",
      "Protocol: sky_conditions gathered 78313 photos\n",
      "Protocol: sky_conditions gathered 134423 photos\n",
      "Protocol: sky_conditions gathered 68544 photos\n",
      "Protocol: sky_conditions gathered 57711 photos\n",
      "Protocol: sky_conditions gathered 53847 photos\n",
      "Protocol: sky_conditions gathered 68102 photos\n",
      "Protocol: sky_conditions gathered 67897 photos\n",
      "Protocol: sky_conditions gathered 168877 photos\n",
      "Protocol: sky_conditions gathered 79615 photos\n",
      "Protocol: sky_conditions gathered 125773 photos\n",
      "Protocol: sky_conditions gathered 138201 photos\n",
      "Protocol: sky_conditions gathered 14006 photos\n",
      "1472616\n"
     ]
    }
   ],
   "source": [
    "total = 0\n",
    "split = 20\n",
    "displacement = (end_date - start_date).days\n",
    "step = int(displacement/split)\n",
    "for protocol in protocols:\n",
    "    try:\n",
    "        total+=count_protocol(protocol, start_date.strftime(\"%Y-%m-%d\"), end_date.strftime(\"%Y-%m-%d\"))\n",
    "    except Exception:\n",
    "        \n",
    "        for i in range(0, displacement, step):\n",
    "            start = start_date + timedelta(days = i)\n",
    "            end = start_date + timedelta(days = i + step - 1)\n",
    "            if (end > end_date):\n",
    "                end = end_date\n",
    "            \n",
    "            total+=count_protocol(protocol, start.strftime(\"%Y-%m-%d\"), end.strftime(\"%Y-%m-%d\"))\n",
    "\n",
    "print(total)"
   ]
  },
  {
   "cell_type": "code",
   "execution_count": 31,
   "metadata": {},
   "outputs": [
    {
     "name": "stdout",
     "output_type": "stream",
     "text": [
      "2015-10-01 2015-12-30\n",
      "2015-12-31 2016-03-30\n",
      "2016-03-31 2016-06-29\n",
      "2016-06-30 2016-09-28\n",
      "2016-09-29 2016-12-28\n",
      "2016-12-29 2017-03-29\n",
      "2017-03-30 2017-06-28\n",
      "2017-06-29 2017-09-27\n",
      "2017-09-28 2017-12-27\n",
      "2017-12-28 2018-03-28\n",
      "2018-03-29 2018-06-27\n",
      "2018-06-28 2018-09-26\n",
      "2018-09-27 2018-12-26\n",
      "2018-12-27 2019-03-27\n",
      "2019-03-28 2019-06-26\n",
      "2019-06-27 2019-09-25\n",
      "2019-09-26 2019-12-25\n",
      "2019-12-26 2020-03-25\n",
      "2020-03-26 2020-06-24\n",
      "2020-06-25 2020-09-23\n",
      "2020-09-24 2020-09-30\n"
     ]
    }
   ],
   "source": [
    "# datetime test\n",
    "split = 20\n",
    "for i in range(0, displacement, step):\n",
    "    start = start_date + timedelta(days = i)\n",
    "    end = start_date + timedelta(days = i + step - 1)\n",
    "    if (end > end_date):\n",
    "        end = end_date\n",
    "    print(start.strftime(\"%Y-%m-%d\"), end.strftime(\"%Y-%m-%d\"))"
   ]
  },
  {
   "cell_type": "code",
   "execution_count": null,
   "metadata": {},
   "outputs": [],
   "source": []
  }
 ],
 "metadata": {
  "kernelspec": {
   "display_name": "Python 3",
   "language": "python",
   "name": "python3"
  },
  "language_info": {
   "codemirror_mode": {
    "name": "ipython",
    "version": 3
   },
   "file_extension": ".py",
   "mimetype": "text/x-python",
   "name": "python",
   "nbconvert_exporter": "python",
   "pygments_lexer": "ipython3",
   "version": "3.6.10"
  }
 },
 "nbformat": 4,
 "nbformat_minor": 4
}
